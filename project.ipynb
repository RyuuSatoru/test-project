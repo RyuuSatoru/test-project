{
  "nbformat": 4,
  "nbformat_minor": 0,
  "metadata": {
    "colab": {
      "provenance": [],
      "gpuType": "T4"
    },
    "kernelspec": {
      "name": "python3",
      "display_name": "Python 3"
    },
    "language_info": {
      "name": "python"
    },
    "accelerator": "GPU"
  },
  "cells": [
    {
      "cell_type": "markdown",
      "source": [
        "# **Main Project**"
      ],
      "metadata": {
        "id": "0kC_ihbSzgUJ"
      }
    },
    {
      "cell_type": "code",
      "execution_count": null,
      "metadata": {
        "id": "xXMVlz_jX8qX",
        "cellView": "form",
        "collapsed": true
      },
      "outputs": [],
      "source": [
        "#@title Tải project\n",
        "!git clone https://github.com/RyuuSatoru/test-project.git\n",
        "%cd test-project\n",
        "from IPython.display import clear_output\n",
        "clear_output(wait=True)\n",
        "print(\"Hoàn thành ✔️\")"
      ]
    },
    {
      "cell_type": "code",
      "source": [
        "#@title Tải thư viện\n",
        "!pip install -q --progress-bar off -r requirements.txt\n",
        "from IPython.display import clear_output\n",
        "clear_output(wait=True)\n",
        "print(\"Hoàn thành ✔️\")"
      ],
      "metadata": {
        "collapsed": true,
        "id": "8B86akKkcake",
        "cellView": "form"
      },
      "execution_count": null,
      "outputs": []
    },
    {
      "cell_type": "code",
      "source": [
        "#@title Chạy tiền xử lý\n",
        "!python Run-test.py 2>/dev/null\n",
        "from IPython.display import clear_output\n",
        "clear_output(wait=True)\n",
        "print(\"Hoàn thành ✔️\")\n"
      ],
      "metadata": {
        "id": "o8NmJMnGdxfD",
        "cellView": "form",
        "collapsed": true
      },
      "execution_count": null,
      "outputs": []
    },
    {
      "cell_type": "code",
      "source": [
        "#@title Khởi chạy\n",
        "\n",
        "import ipywidgets as widgets\n",
        "from IPython.display import display, clear_output\n",
        "from Modules.llm import query_genai\n",
        "from Modules.utils import load_json\n",
        "\n",
        "def handle_prompt(prompt):\n",
        "    prompt = prompt.strip().lower()\n",
        "    if prompt in ['exit', 'quit']:\n",
        "        print(\"[INFO] Đã thoát hệ thống.\")\n",
        "        return\n",
        "\n",
        "    use_video = any(kw in prompt for kw in [\"video\", \"phim\", \"clip\"])\n",
        "    use_image = any(kw in prompt for kw in [\"ảnh\", \"hình\", \"image\", \"photo\"])\n",
        "    use_audio = any(kw in prompt for kw in [\"âm thanh\", \"audio\", \"tiếng\", \"sound\", \"bài hát\"])\n",
        "\n",
        "    context = \"\"\n",
        "\n",
        "    if use_video:\n",
        "        print(\"[INFO] Đang đọc video.json...\")\n",
        "        video_data = load_json(\"data/video.json\")\n",
        "        context += \"\\n\".join([f\"[VIDEO] {item.get('filename', 'unknown')} - {item.get('summary', '')}\" for item in video_data]) + \"\\n\"\n",
        "\n",
        "    if use_image:\n",
        "        print(\"[INFO] Đang đọc image.json...\")\n",
        "        image_data = load_json(\"data/image.json\")\n",
        "        context += \"\\n\".join([f\"[IMAGE] {item.get('filename', 'unknown')} - {item.get('summary', '')}\" for item in image_data]) + \"\\n\"\n",
        "\n",
        "    if use_audio:\n",
        "        print(\"[INFO] Đang đọc audio.json...\")\n",
        "        audio_data = load_json(\"data/audio.json\")\n",
        "        context += \"\\n\".join([f\"[AUDIO] {item.get('filename', 'unknown')} - {item.get('transcript', '')}\" for item in audio_data]) + \"\\n\"\n",
        "\n",
        "    if not (use_video or use_image or use_audio):\n",
        "        print(\"[INFO] Đang đọc document.json...\")\n",
        "        doc_data = load_json(\"data/document.json\")\n",
        "        context += \"\\n\".join(doc_data)\n",
        "\n",
        "    full_prompt = f\"{prompt}\\n\\nThông tin liên quan:\\n{context}\"\n",
        "\n",
        "    print(\"[INFO] Đang gửi truy vấn...\")\n",
        "    response = query_genai(full_prompt)\n",
        "\n",
        "    print(\"\\n=== KẾT QUẢ PHẢN HỒI ===\")\n",
        "    print(response)\n",
        "    print(\"\\n------------------------\\n\")\n",
        "\n",
        "# Tạo widget giao diện\n",
        "text_box = widgets.Text(\n",
        "    description='Prompt:',\n",
        "    placeholder='Nhập prompt truy vấn...',\n",
        "    layout=widgets.Layout(width='100%')\n",
        ")\n",
        "send_button = widgets.Button(description='Gửi')\n",
        "output_area = widgets.Output()\n",
        "\n",
        "def on_button_click(b):\n",
        "    with output_area:\n",
        "        clear_output()\n",
        "        handle_prompt(text_box.value)\n",
        "\n",
        "send_button.on_click(on_button_click)\n",
        "\n",
        "display(widgets.VBox([text_box, send_button, output_area]))"
      ],
      "metadata": {
        "id": "XOQh8ImsoU4o",
        "cellView": "form"
      },
      "execution_count": null,
      "outputs": []
    },
    {
      "cell_type": "markdown",
      "source": [
        "# **Chỉ dùng khi kiểm tra dữ liệu**"
      ],
      "metadata": {
        "id": "hFyqEDuRzSLW"
      }
    },
    {
      "cell_type": "code",
      "source": [
        "#@title Dữ liệu video\n",
        "import json\n",
        "file_path = \"data/video.json\"\n",
        "with open(file_path, \"r\", encoding=\"utf-8\") as f:\n",
        "    data = json.load(f)\n",
        "print(json.dumps(data, indent=4, ensure_ascii=False))\n"
      ],
      "metadata": {
        "collapsed": true,
        "cellView": "form",
        "id": "holRdJYzvWxO"
      },
      "execution_count": null,
      "outputs": []
    },
    {
      "cell_type": "code",
      "source": [
        "#@title Dữ liệu audio\n",
        "import json\n",
        "file_path = \"data/audio.json\"\n",
        "with open(file_path, \"r\", encoding=\"utf-8\") as f:\n",
        "    data = json.load(f)\n",
        "print(json.dumps(data, indent=4, ensure_ascii=False))\n"
      ],
      "metadata": {
        "cellView": "form",
        "collapsed": true,
        "id": "nbPxuwU-yN48"
      },
      "execution_count": null,
      "outputs": []
    },
    {
      "cell_type": "code",
      "source": [
        "#@title Dữ liệu ảnh\n",
        "import json\n",
        "file_path = \"data/image.json\"\n",
        "with open(file_path, \"r\", encoding=\"utf-8\") as f:\n",
        "    data = json.load(f)\n",
        "print(json.dumps(data, indent=4, ensure_ascii=False))\n"
      ],
      "metadata": {
        "cellView": "form",
        "collapsed": true,
        "id": "1YLFAZcZyTxr"
      },
      "execution_count": null,
      "outputs": []
    },
    {
      "cell_type": "code",
      "source": [
        "#@title Dữ liệu văn bản\n",
        "\"\"\"\n",
        "import json\n",
        "file_path = \"data/document.json\"\n",
        "with open(file_path, \"r\", encoding=\"utf-8\") as f:\n",
        "    data = json.load(f)\n",
        "print(json.dumps(data, indent=4, ensure_ascii=False))\n",
        "\"\"\"\n",
        "from IPython.display import clear_output\n",
        "clear_output(wait=True)\n",
        "print(\"Đang bảo trì ⚠️\")"
      ],
      "metadata": {
        "id": "uIeRiZMMyb2b",
        "cellView": "form"
      },
      "execution_count": null,
      "outputs": []
    },
    {
      "cell_type": "code",
      "source": [],
      "metadata": {
        "id": "B2BA8gsOsrsW"
      },
      "execution_count": null,
      "outputs": []
    }
  ]
}